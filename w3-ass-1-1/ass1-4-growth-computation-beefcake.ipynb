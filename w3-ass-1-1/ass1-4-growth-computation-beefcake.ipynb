{
 "cells": [
  {
   "cell_type": "code",
   "execution_count": 1,
   "id": "8f37f98c",
   "metadata": {},
   "outputs": [],
   "source": [
    "import matplotlib.pyplot as plt\n",
    "import numpy as np"
   ]
  },
  {
   "cell_type": "markdown",
   "id": "02423637",
   "metadata": {
    "toc": true
   },
   "source": [
    "<h1>Table of Contents<span class=\"tocSkip\"></span></h1>\n",
    "<div class=\"toc\"><ul class=\"toc-item\"><li><span><a href=\"#Instructions\" data-toc-modified-id=\"Instructions-1\"><span class=\"toc-item-num\">1&nbsp;&nbsp;</span>Instructions</a></span></li><li><span><a href=\"#Readings\" data-toc-modified-id=\"Readings-2\"><span class=\"toc-item-num\">2&nbsp;&nbsp;</span>Readings</a></span></li><li><span><a href=\"#Solow-Swan-Model\" data-toc-modified-id=\"Solow-Swan-Model-3\"><span class=\"toc-item-num\">3&nbsp;&nbsp;</span>Solow-Swan Model</a></span><ul class=\"toc-item\"><li><span><a href=\"#Model-equilibrium-description\" data-toc-modified-id=\"Model-equilibrium-description-3.1\"><span class=\"toc-item-num\">3.1&nbsp;&nbsp;</span>Model equilibrium description</a></span></li></ul></li><li><span><a href=\"#Assignment\" data-toc-modified-id=\"Assignment-4\"><span class=\"toc-item-num\">4&nbsp;&nbsp;</span>Assignment</a></span><ul class=\"toc-item\"><li><span><a href=\"#Simulation-of-equilibrium-outcomes\" data-toc-modified-id=\"Simulation-of-equilibrium-outcomes-4.1\"><span class=\"toc-item-num\">4.1&nbsp;&nbsp;</span>Simulation of equilibrium outcomes</a></span></li></ul></li></ul></div>"
   ]
  },
  {
   "cell_type": "markdown",
   "id": "fd6fbaaa",
   "metadata": {},
   "source": [
    "# Instructions\n",
    "\n",
    "1. Use this notebook to provide your solutions. \n",
    "\n",
    "2. Submit executable notebook (``.ipynb`` file) to the course GitHub Classroom assignment using your linked GitHub account.\n",
    "\n",
    "3. Download a copy of your notebook to HTML and then save that as a PDF file. Upload that PDF file to the course Wattle assignment's *Turnitin*."
   ]
  },
  {
   "cell_type": "markdown",
   "id": "b6fb4936",
   "metadata": {},
   "source": [
    "# Readings\n",
    "\n",
    "* Daron Acemoglu, *Introduction to Modern Economic Growth*\n",
    "\n",
    "* David Romer, *Advanced Macroeconomics*\n",
    "\n",
    "* Charles I. Jones, *Macroeconomics*.\n",
    "\n"
   ]
  },
  {
   "cell_type": "markdown",
   "id": "bb7b5ba5",
   "metadata": {},
   "source": [
    "# Solow-Swan Model"
   ]
  },
  {
   "cell_type": "markdown",
   "id": "3c244c34",
   "metadata": {},
   "source": [
    "Time is assumed to be infinite but discrete: $t \\in \\{ 0, 1, 2, ... \\} \\equiv \\mathbb{N}$.\n",
    "\n",
    "The model assumes that people consume a constant fraction $0 < m < 1$ of their income flow $Y_{t}$ every period $t$:\n",
    "\n",
    "$$\n",
    "C_{t} = m Y_{t}.\n",
    "$$\n",
    "\n",
    "Income (or output) is generated from a production function $F$ that uses labor ($L_{t}$) and capital ($K_{t}$):\n",
    "\n",
    "$$\n",
    "Y_{t} = F(K_{t}, L_{t}) = AK_{t}^{\\alpha} L_{t}^{1-\\alpha},\n",
    "$$\n",
    "\n",
    "where $A > 0$ and $0 < \\alpha < 1$.\n",
    "\n",
    "Assume that capital is produced using this accumulation technology:\n",
    "\n",
    "$$\n",
    "      K_{t+1} = (1-\\delta)K_{t} + I_{t},\n",
    "$$\n",
    "where $0 < \\delta < 1$ and $I_{t}$ is new investment into capital goods.\n",
    "\n",
    "Labor supply:\n",
    "\n",
    "$$\n",
    "L_{t} = 1,\n",
    "$$\n",
    "\n",
    "where population size is 1.\n",
    "\n",
    "From national accounting identity:\n",
    "\n",
    "$$\n",
    "I_{t} = Y_{t} - C_{t}.\n",
    "$$"
   ]
  },
  {
   "cell_type": "markdown",
   "id": "eefa86f8",
   "metadata": {},
   "source": [
    "## Model equilibrium description"
   ]
  },
  {
   "cell_type": "markdown",
   "id": "66ae2bec",
   "metadata": {},
   "source": [
    "We can do a bit of algebra to simplify the system of five equations and five unknown variables above to one equation:"
   ]
  },
  {
   "cell_type": "markdown",
   "id": "0976750f",
   "metadata": {},
   "source": [
    "Rewrite consumption as:\n",
    "\n",
    "$$\n",
    "C_{t} = m AK_{t}^{\\alpha} L_{t}^{1-\\alpha} = m AK_{t}^{\\alpha}.\n",
    "$$"
   ]
  },
  {
   "cell_type": "markdown",
   "id": "98362743",
   "metadata": {},
   "source": [
    "Rewrite investment as \n",
    "\n",
    "$$\n",
    "I_{t} = (1-m)Y_{t} = (1-m)AK_{t}^{\\alpha}.\n",
    "$$"
   ]
  },
  {
   "cell_type": "markdown",
   "id": "c8923fcf",
   "metadata": {},
   "source": [
    "Using last equation, we have\n",
    "\n",
    "$$\n",
    "K_{t+1} = (1-\\delta)K_{t} + sAK_{t}^{\\alpha} \\equiv g(K_{t}),\n",
    "$$\n",
    "\n",
    "where $s = (1-m)$."
   ]
  },
  {
   "cell_type": "markdown",
   "id": "79e1a134",
   "metadata": {},
   "source": [
    "This describes a *dynamic equilibrium* of the model. It is a first-order difference equation in $K$."
   ]
  },
  {
   "cell_type": "markdown",
   "id": "c2c42a44",
   "metadata": {},
   "source": [
    "**Definition.** A *dynamic equilibrium* is a sequence of allocation outcomes $(K_{1}, K_{2},..., K_{t}, ...)$ that satisfies \n",
    "\n",
    "$$\n",
    "K_{t+1} = (1-\\delta)K_{t} + sAK_{t}^{\\alpha} \\equiv g(K_{t}),\n",
    "$$\n",
    "\n",
    "given an initial state $K_{0}$."
   ]
  },
  {
   "cell_type": "markdown",
   "id": "1ca57e79",
   "metadata": {},
   "source": [
    "# Assignment"
   ]
  },
  {
   "cell_type": "code",
   "execution_count": 3,
   "id": "17832ac9",
   "metadata": {},
   "outputs": [],
   "source": [
    "# Model parameters\n",
    "# =========================\n",
    "\n",
    "K0 = 0.1\n",
    "α = 0.33\n",
    "δ = 0.10\n",
    "A = 10.0\n",
    "s = 0.25\n",
    "L = 1.0"
   ]
  },
  {
   "cell_type": "code",
   "execution_count": 4,
   "id": "46385d39",
   "metadata": {},
   "outputs": [],
   "source": [
    "# Model primitive functions\n",
    "# =========================\n",
    "\n",
    "# Production function\n",
    "def F(K, L=1.0, A=1.0, α=0.33):\n",
    "    \"\"\"Cobb-Douglas production function\"\"\"\n",
    "    Y = A*(K**α)*(L**(1-α))\n",
    "    return Y\n",
    "\n",
    "# Equilibrium map/function g\n",
    "def g(K, L=1.0, A=1.0, α=0.33, δ=0.05, s=0.123):\n",
    "    \"\"\"Solow-Swan (simple version)\n",
    "    Equilibrium transition function.\n",
    "    \"\"\"\n",
    "    K_next = (1-δ)*K + s*F(K, L, A, α)\n",
    "    return K_next"
   ]
  },
  {
   "cell_type": "markdown",
   "id": "e97e87d0",
   "metadata": {},
   "source": [
    "**QUESTION 0.** \n",
    "\n",
    "1. Plot the function $g$ in a diagram with $K_{t}$ and $K_{t+1}$ on the horizontal and vertical axes, respectively.\n",
    "\n",
    "2. Superimpose the graph of a 45-degree line in the same diagram.\n",
    "\n",
    "3. What is this graphical device called? What is it useful for? Provide an example to illustrate its use. (Hint: This is stuff from your undergraduate or first-year Masters macro class.)"
   ]
  },
  {
   "cell_type": "markdown",
   "id": "1a5bf78f",
   "metadata": {},
   "source": [
    "**Answer 0.1 and 0.2.**"
   ]
  },
  {
   "cell_type": "code",
   "execution_count": 2,
   "id": "52a7341d",
   "metadata": {},
   "outputs": [],
   "source": [
    "# Questions 0-1 and 0-2: Your code here\n",
    "\n"
   ]
  },
  {
   "cell_type": "markdown",
   "id": "320113f3",
   "metadata": {},
   "source": [
    "**Answer 0.3.**"
   ]
  },
  {
   "cell_type": "markdown",
   "id": "c86dbc42",
   "metadata": {},
   "source": [
    "*Type in your writing and discussion here. Use plain English. Take care to write clearly and accurately.*"
   ]
  },
  {
   "cell_type": "markdown",
   "id": "dfa698b1",
   "metadata": {},
   "source": [
    "## Simulation of equilibrium outcomes"
   ]
  },
  {
   "cell_type": "code",
   "execution_count": 5,
   "id": "2d18d4c6",
   "metadata": {},
   "outputs": [
    {
     "data": {
      "text/plain": [
       "1.1431681486535354"
      ]
     },
     "execution_count": 5,
     "metadata": {},
     "output_type": "execute_result"
    }
   ],
   "source": [
    "# Example 1: Evaluate F at (K,L) default parameters\n",
    "F(1.5, 1)"
   ]
  },
  {
   "cell_type": "code",
   "execution_count": 6,
   "id": "46890b14",
   "metadata": {},
   "outputs": [
    {
     "data": {
      "text/plain": [
       "111.77487388973248"
      ]
     },
     "execution_count": 6,
     "metadata": {},
     "output_type": "execute_result"
    }
   ],
   "source": [
    "# Example 2: Evaluate F at (K,L) new parameters\n",
    "F(1.5, 1., A=101., α=0.25)"
   ]
  },
  {
   "cell_type": "markdown",
   "id": "75ae11b1",
   "metadata": {},
   "source": [
    "**QUESTION 1**. Write code to simulate the model's dynamic equilibrium *outcome* of capital stock, consumption, output/income and investment for ``T = 200`` periods:"
   ]
  },
  {
   "cell_type": "markdown",
   "id": "9d8ae0f8",
   "metadata": {},
   "source": [
    "**Answer 1.**"
   ]
  },
  {
   "cell_type": "code",
   "execution_count": 8,
   "id": "b4aa826a",
   "metadata": {
    "scrolled": false
   },
   "outputs": [],
   "source": [
    "# Question 1: Your code here - use the comment headings as suggestive guide\n",
    "\n",
    "# Simulating the equilibrium\n",
    "# ==========================================================\n",
    "\n",
    "# Length of time path to simulate\n",
    "T = 200\n",
    "\n",
    "# Initial condition K0\n",
    "K = \n",
    "\n",
    "# Storage (list) to save results each period\n",
    "K_path = []\n",
    "\n",
    "# Loop to recursively evaluate model equilibrium K --> g(K)?\n"
   ]
  },
  {
   "cell_type": "markdown",
   "id": "ca7a150f",
   "metadata": {},
   "source": [
    "**QUESTION 2.** Now plot the time paths of what you just computed. (Put time $t$ on the horizontal and the outcome path of each variable on the vertical axis.)"
   ]
  },
  {
   "cell_type": "markdown",
   "id": "9431c5df",
   "metadata": {},
   "source": [
    "**Answer 2.**"
   ]
  },
  {
   "cell_type": "code",
   "execution_count": 8,
   "id": "ba9e6625",
   "metadata": {},
   "outputs": [],
   "source": [
    "# Question 2: Your code here\n",
    "\n"
   ]
  },
  {
   "cell_type": "markdown",
   "id": "f6adcf67",
   "metadata": {},
   "source": [
    "**QUESTION 3.** \n",
    "\n",
    "1. Now plot (or superimpose) the time path of $K$ you had earlier onto the graph you created at the beginning (i.e., the phase diagram).\n",
    "\n",
    "2. Comment on what you see and what you can learn about the behavior of the model, in this example."
   ]
  },
  {
   "cell_type": "markdown",
   "id": "1f0e000a",
   "metadata": {},
   "source": [
    "**Answer 3.**"
   ]
  },
  {
   "cell_type": "code",
   "execution_count": 34,
   "id": "a4ba7814",
   "metadata": {},
   "outputs": [],
   "source": [
    "# Question 3: Your code here\n",
    "\n"
   ]
  },
  {
   "cell_type": "markdown",
   "id": "b38989d8",
   "metadata": {},
   "source": [
    "*Your comment/discussion here.*\n",
    "\n",
    "\n",
    "\n",
    "\n",
    "\n"
   ]
  },
  {
   "cell_type": "markdown",
   "id": "3f691f26",
   "metadata": {},
   "source": [
    "**QUESTION 4.** *This question tests your economic story-telling creativity and mastery of the skills learned thus far*."
   ]
  },
  {
   "cell_type": "markdown",
   "id": "1fef310f",
   "metadata": {},
   "source": [
    "![All countries](images/nonconvergence.png)"
   ]
  },
  {
   "cell_type": "markdown",
   "id": "1e8d5d7c",
   "metadata": {},
   "source": [
    "You are just fresh out of your undegraduate program and working as an intern for the global development bank called *Huanqiu Yinhang* (or HY).\n",
    "\n",
    "Your supervisors at HY want *a narrative for the observation that many countries overall do not seem to catch up to the rest of the developed nations*, in terms of per-capita income (\"living standard\"). \n",
    "\n",
    "* A motivating figure is that above: On the horizontal axis, we measure the percentage deviation of a country's living standard from that of the US in the year 1960. On the vertical axis, we measure the averaged growth rate between 1960 and 2000. Each dot corresponds to a country. The plot includes a linear regression fit of the scatter plot, with a 95% confidence band calculated using bootsrap methods. \n",
    "\n",
    "Provide a simulation or experiment using the model above to illustrate how the model can rationalize this empirical possibility. Be clear about what you can explain from *within* the model's logic and what is your speculation outside of the model. Hint: *Construct two example countries that are all else identical but for one difference*. "
   ]
  },
  {
   "cell_type": "code",
   "execution_count": null,
   "id": "044029a0",
   "metadata": {},
   "outputs": [],
   "source": [
    "# Question 4: Your code here\n",
    "\n"
   ]
  },
  {
   "cell_type": "markdown",
   "id": "1fd4775b",
   "metadata": {},
   "source": [
    "**Answer 4.**\n",
    "\n",
    "*Your explanation of your experimental design within the model setting and of the result(s) you get here.*"
   ]
  },
  {
   "cell_type": "code",
   "execution_count": null,
   "id": "b3cdcff7",
   "metadata": {},
   "outputs": [],
   "source": []
  }
 ],
 "metadata": {
  "kernelspec": {
   "display_name": "Python 3 (ipykernel)",
   "language": "python",
   "name": "python3"
  },
  "language_info": {
   "codemirror_mode": {
    "name": "ipython",
    "version": 3
   },
   "file_extension": ".py",
   "mimetype": "text/x-python",
   "name": "python",
   "nbconvert_exporter": "python",
   "pygments_lexer": "ipython3",
   "version": "3.7.11"
  },
  "latex_envs": {
   "LaTeX_envs_menu_present": true,
   "autoclose": false,
   "autocomplete": true,
   "bibliofile": "biblio.bib",
   "cite_by": "apalike",
   "current_citInitial": 1,
   "eqLabelWithNumbers": true,
   "eqNumInitial": 1,
   "hotkeys": {
    "equation": "Ctrl-E",
    "itemize": "Ctrl-I"
   },
   "labels_anchors": false,
   "latex_user_defs": false,
   "report_style_numbering": false,
   "user_envs_cfg": false
  },
  "toc": {
   "base_numbering": 1,
   "nav_menu": {},
   "number_sections": true,
   "sideBar": true,
   "skip_h1_title": false,
   "title_cell": "Table of Contents",
   "title_sidebar": "Contents",
   "toc_cell": true,
   "toc_position": {},
   "toc_section_display": true,
   "toc_window_display": true
  }
 },
 "nbformat": 4,
 "nbformat_minor": 5
}
